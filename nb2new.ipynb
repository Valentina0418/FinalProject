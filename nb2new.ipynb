{
 "cells": [
  {
   "cell_type": "markdown",
   "metadata": {},
   "source": [
    "<p style=\"text-align:center\">\n",
    "    <a href=\"https://skills.network\" target=\"_blank\">\n",
    "    <img src=\"https://cf-courses-data.s3.us.cloud-object-storage.appdomain.cloud/assets/logos/SN_web_lightmode.png\" width=\"200\" alt=\"Skills Network Logo\">\n",
    "    </a>\n",
    "</p>\n"
   ]
  },
  {
   "cell_type": "markdown",
   "metadata": {},
   "source": [
    "# **Space X  Falcon 9 First Stage Landing Prediction**\n"
   ]
  },
  {
   "cell_type": "markdown",
   "metadata": {},
   "source": [
    "## Web scraping Falcon 9 and Falcon Heavy Launches Records from Wikipedia\n"
   ]
  },
  {
   "cell_type": "markdown",
   "metadata": {},
   "source": [
    "Estimated time needed: **40** minutes\n"
   ]
  },
  {
   "cell_type": "markdown",
   "metadata": {},
   "source": [
    "In this lab, you will be performing web scraping to collect Falcon 9 historical launch records from a Wikipedia page titled `List of Falcon 9 and Falcon Heavy launches`\n",
    "\n",
    "https://en.wikipedia.org/wiki/List_of_Falcon_9_and_Falcon_Heavy_launches\n"
   ]
  },
  {
   "cell_type": "markdown",
   "metadata": {},
   "source": [
    "![](https://cf-courses-data.s3.us.cloud-object-storage.appdomain.cloud/IBM-DS0321EN-SkillsNetwork/labs/module_1_L2/images/Falcon9_rocket_family.svg)\n"
   ]
  },
  {
   "cell_type": "markdown",
   "metadata": {},
   "source": [
    "Falcon 9 first stage will land successfully\n"
   ]
  },
  {
   "cell_type": "markdown",
   "metadata": {},
   "source": [
    "![](https://cf-courses-data.s3.us.cloud-object-storage.appdomain.cloud/IBMDeveloperSkillsNetwork-DS0701EN-SkillsNetwork/api/Images/landing_1.gif)\n"
   ]
  },
  {
   "cell_type": "markdown",
   "metadata": {},
   "source": [
    "Several examples of an unsuccessful landing are shown here:\n"
   ]
  },
  {
   "cell_type": "markdown",
   "metadata": {},
   "source": [
    "![](https://cf-courses-data.s3.us.cloud-object-storage.appdomain.cloud/IBMDeveloperSkillsNetwork-DS0701EN-SkillsNetwork/api/Images/crash.gif)\n"
   ]
  },
  {
   "cell_type": "markdown",
   "metadata": {},
   "source": [
    "More specifically, the launch records are stored in a HTML table shown below:\n"
   ]
  },
  {
   "cell_type": "markdown",
   "metadata": {},
   "source": [
    "![](https://cf-courses-data.s3.us.cloud-object-storage.appdomain.cloud/IBM-DS0321EN-SkillsNetwork/labs/module_1_L2/images/falcon9-launches-wiki.png)\n"
   ]
  },
  {
   "cell_type": "markdown",
   "metadata": {},
   "source": [
    "  ## Objectives\n",
    "Web scrap Falcon 9 launch records with `BeautifulSoup`: \n",
    "- Extract a Falcon 9 launch records HTML table from Wikipedia\n",
    "- Parse the table and convert it into a Pandas data frame\n"
   ]
  },
  {
   "cell_type": "markdown",
   "metadata": {},
   "source": [
    "First let's import required packages for this lab\n"
   ]
  },
  {
   "cell_type": "code",
   "execution_count": 9,
   "metadata": {
    "tags": []
   },
   "outputs": [
    {
     "name": "stdout",
     "output_type": "stream",
     "text": [
      "Requirement already satisfied: beautifulsoup4 in /home/jupyterlab/conda/envs/python/lib/python3.7/site-packages (4.11.1)\n",
      "Requirement already satisfied: soupsieve>1.2 in /home/jupyterlab/conda/envs/python/lib/python3.7/site-packages (from beautifulsoup4) (2.3.2.post1)\n",
      "Requirement already satisfied: requests in /home/jupyterlab/conda/envs/python/lib/python3.7/site-packages (2.29.0)\n",
      "Requirement already satisfied: charset-normalizer<4,>=2 in /home/jupyterlab/conda/envs/python/lib/python3.7/site-packages (from requests) (3.1.0)\n",
      "Requirement already satisfied: idna<4,>=2.5 in /home/jupyterlab/conda/envs/python/lib/python3.7/site-packages (from requests) (3.4)\n",
      "Requirement already satisfied: urllib3<1.27,>=1.21.1 in /home/jupyterlab/conda/envs/python/lib/python3.7/site-packages (from requests) (1.26.15)\n",
      "Requirement already satisfied: certifi>=2017.4.17 in /home/jupyterlab/conda/envs/python/lib/python3.7/site-packages (from requests) (2023.5.7)\n"
     ]
    }
   ],
   "source": [
    "!pip3 install beautifulsoup4\n",
    "!pip3 install requests"
   ]
  },
  {
   "cell_type": "code",
   "execution_count": 10,
   "metadata": {
    "tags": []
   },
   "outputs": [],
   "source": [
    "import sys\n",
    "\n",
    "import requests\n",
    "from bs4 import BeautifulSoup\n",
    "import re\n",
    "import unicodedata\n",
    "import pandas as pd"
   ]
  },
  {
   "cell_type": "markdown",
   "metadata": {},
   "source": [
    "and we will provide some helper functions for you to process web scraped HTML table\n"
   ]
  },
  {
   "cell_type": "code",
   "execution_count": 11,
   "metadata": {
    "tags": []
   },
   "outputs": [],
   "source": [
    "def date_time(table_cells):\n",
    "    \"\"\"\n",
    "    This function returns the data and time from the HTML  table cell\n",
    "    Input: the  element of a table data cell extracts extra row\n",
    "    \"\"\"\n",
    "    return [data_time.strip() for data_time in list(table_cells.strings)][0:2]\n",
    "\n",
    "def booster_version(table_cells):\n",
    "    \"\"\"\n",
    "    This function returns the booster version from the HTML  table cell \n",
    "    Input: the  element of a table data cell extracts extra row\n",
    "    \"\"\"\n",
    "    out=''.join([booster_version for i,booster_version in enumerate( table_cells.strings) if i%2==0][0:-1])\n",
    "    return out\n",
    "\n",
    "def landing_status(table_cells):\n",
    "    \"\"\"\n",
    "    This function returns the landing status from the HTML table cell \n",
    "    Input: the  element of a table data cell extracts extra row\n",
    "    \"\"\"\n",
    "    out=[i for i in table_cells.strings][0]\n",
    "    return out\n",
    "\n",
    "\n",
    "def get_mass(table_cells):\n",
    "    mass=unicodedata.normalize(\"NFKD\", table_cells.text).strip()\n",
    "    if mass:\n",
    "        mass.find(\"kg\")\n",
    "        new_mass=mass[0:mass.find(\"kg\")+2]\n",
    "    else:\n",
    "        new_mass=0\n",
    "    return new_mass\n",
    "\n",
    "\n",
    "def extract_column_from_header(row):\n",
    "    \"\"\"\n",
    "    This function returns the landing status from the HTML table cell \n",
    "    Input: the  element of a table data cell extracts extra row\n",
    "    \"\"\"\n",
    "    if (row.br):\n",
    "        row.br.extract()\n",
    "    if row.a:\n",
    "        row.a.extract()\n",
    "    if row.sup:\n",
    "        row.sup.extract()\n",
    "        \n",
    "    colunm_name = ' '.join(row.contents)\n",
    "    \n",
    "    # Filter the digit and empty names\n",
    "    if not(colunm_name.strip().isdigit()):\n",
    "        colunm_name = colunm_name.strip()\n",
    "        return colunm_name    \n"
   ]
  },
  {
   "cell_type": "markdown",
   "metadata": {},
   "source": [
    "To keep the lab tasks consistent, you will be asked to scrape the data from a snapshot of the  `List of Falcon 9 and Falcon Heavy launches` Wikipage updated on\n",
    "`9th June 2021`\n"
   ]
  },
  {
   "cell_type": "code",
   "execution_count": 12,
   "metadata": {
    "tags": []
   },
   "outputs": [],
   "source": [
    "static_url = \"https://en.wikipedia.org/w/index.php?title=List_of_Falcon_9_and_Falcon_Heavy_launches&oldid=1027686922\""
   ]
  },
  {
   "cell_type": "markdown",
   "metadata": {},
   "source": [
    "Next, request the HTML page from the above URL and get a `response` object\n"
   ]
  },
  {
   "cell_type": "markdown",
   "metadata": {},
   "source": [
    "### TASK 1: Request the Falcon9 Launch Wiki page from its URL\n"
   ]
  },
  {
   "cell_type": "markdown",
   "metadata": {},
   "source": [
    "First, let's perform an HTTP GET method to request the Falcon9 Launch HTML page, as an HTTP response.\n"
   ]
  },
  {
   "cell_type": "code",
   "execution_count": 13,
   "metadata": {
    "tags": []
   },
   "outputs": [],
   "source": [
    "# use requests.get() method with the provided static_url\n",
    "soup=requests.get(static_url)\n",
    "# assign the response to a object"
   ]
  },
  {
   "cell_type": "markdown",
   "metadata": {},
   "source": [
    "Create a `BeautifulSoup` object from the HTML `response`\n"
   ]
  },
  {
   "cell_type": "code",
   "execution_count": 14,
   "metadata": {
    "tags": []
   },
   "outputs": [],
   "source": [
    "soup1 = BeautifulSoup(soup.text, 'html.parser')"
   ]
  },
  {
   "cell_type": "markdown",
   "metadata": {},
   "source": [
    "Print the page title to verify if the `BeautifulSoup` object was created properly \n"
   ]
  },
  {
   "cell_type": "code",
   "execution_count": 15,
   "metadata": {
    "tags": []
   },
   "outputs": [
    {
     "data": {
      "text/plain": [
       "<title>List of Falcon 9 and Falcon Heavy launches - Wikipedia</title>"
      ]
     },
     "execution_count": 15,
     "metadata": {},
     "output_type": "execute_result"
    }
   ],
   "source": [
    "# Use soup.title attribute\n",
    "soup1.title"
   ]
  },
  {
   "cell_type": "markdown",
   "metadata": {},
   "source": [
    "### TASK 2: Extract all column/variable names from the HTML table header\n"
   ]
  },
  {
   "cell_type": "markdown",
   "metadata": {},
   "source": [
    "Next, we want to collect all relevant column names from the HTML table header\n"
   ]
  },
  {
   "cell_type": "markdown",
   "metadata": {},
   "source": [
    "Let's try to find all tables on the wiki page first. If you need to refresh your memory about `BeautifulSoup`, please check the external reference link towards the end of this lab\n"
   ]
  },
  {
   "cell_type": "code",
   "execution_count": 55,
   "metadata": {
    "tags": []
   },
   "outputs": [],
   "source": [
    "# Use the find_all function in the BeautifulSoup object, with element type `table`\n",
    "html_tables= soup1.find_all('table')\n",
    "# Assign the result to a list called `html_tables`\n"
   ]
  },
  {
   "cell_type": "markdown",
   "metadata": {},
   "source": [
    "Starting from the third table is our target table contains the actual launch records.\n"
   ]
  },
  {
   "cell_type": "code",
   "execution_count": 56,
   "metadata": {
    "tags": []
   },
   "outputs": [],
   "source": [
    "# Let's print the third table and check its content\n",
    "first_launch_table = html_tables[2]\n"
   ]
  },
  {
   "cell_type": "markdown",
   "metadata": {},
   "source": [
    "You should able to see the columns names embedded in the table header elements `<th>` as follows:\n"
   ]
  },
  {
   "cell_type": "markdown",
   "metadata": {},
   "source": [
    "```\n",
    "<tr>\n",
    "<th scope=\"col\">Flight No.\n",
    "</th>\n",
    "<th scope=\"col\">Date and<br/>time (<a href=\"/wiki/Coordinated_Universal_Time\" title=\"Coordinated Universal Time\">UTC</a>)\n",
    "</th>\n",
    "<th scope=\"col\"><a href=\"/wiki/List_of_Falcon_9_first-stage_boosters\" title=\"List of Falcon 9 first-stage boosters\">Version,<br/>Booster</a> <sup class=\"reference\" id=\"cite_ref-booster_11-0\"><a href=\"#cite_note-booster-11\">[b]</a></sup>\n",
    "</th>\n",
    "<th scope=\"col\">Launch site\n",
    "</th>\n",
    "<th scope=\"col\">Payload<sup class=\"reference\" id=\"cite_ref-Dragon_12-0\"><a href=\"#cite_note-Dragon-12\">[c]</a></sup>\n",
    "</th>\n",
    "<th scope=\"col\">Payload mass\n",
    "</th>\n",
    "<th scope=\"col\">Orbit\n",
    "</th>\n",
    "<th scope=\"col\">Customer\n",
    "</th>\n",
    "<th scope=\"col\">Launch<br/>outcome\n",
    "</th>\n",
    "<th scope=\"col\"><a href=\"/wiki/Falcon_9_first-stage_landing_tests\" title=\"Falcon 9 first-stage landing tests\">Booster<br/>landing</a>\n",
    "</th></tr>\n",
    "```\n"
   ]
  },
  {
   "cell_type": "markdown",
   "metadata": {},
   "source": [
    "Next, we just need to iterate through the `<th>` elements and apply the provided `extract_column_from_header()` to extract column name one by one\n"
   ]
  },
  {
   "cell_type": "code",
   "execution_count": 57,
   "metadata": {
    "tags": []
   },
   "outputs": [
    {
     "name": "stdout",
     "output_type": "stream",
     "text": [
      "Column Names: ['Flight No.', 'Date and time ( )', '', 'Launch site', 'Payload', 'Payload mass', 'Orbit', 'Customer', 'Launch outcome', '', None, None, None, None, None, None, None]\n"
     ]
    }
   ],
   "source": [
    "import requests\n",
    "from bs4 import BeautifulSoup\n",
    "ths = first_launch_table.find_all('th')\n",
    "ths\n",
    "column_names= []\n",
    "\n",
    "\n",
    "ths = first_launch_table.find_all('th')\n",
    "\n",
    "\n",
    "for th in ths:\n",
    "    def extract_column_from_header(row):\n",
    "        \"\"\"\n",
    "        This function returns the landing status from the HTML table cell \n",
    "        Input: the  element of a table data cell extracts extra row\n",
    "        \"\"\"\n",
    "        if row.br:\n",
    "            row.br.extract()\n",
    "        if row.a:\n",
    "            row.a.extract()\n",
    "        if row.sup:\n",
    "            row.sup.extract()\n",
    "\n",
    "        column_name = ' '.join(row.contents)\n",
    "\n",
    "        # Filter the digit and empty names\n",
    "        if not(column_name.strip().isdigit()):\n",
    "            column_name = column_name.strip()\n",
    "            return column_name  \n",
    "    \n",
    "    # Call the function and append the result to column_names\n",
    "    column_names.append(extract_column_from_header(th))\n",
    "\n",
    "# Print the extracted column names for verification\n",
    "print(\"Column Names:\", column_names)\n",
    "\n",
    "    \n",
    "\n",
    "# Apply find_all() function with `th` element on first_launch_table\n",
    "# Iterate each th element and apply the provided extract_column_from_header() to get a column name\n",
    "# Append the Non-empty column name (`if name is not None and len(name) > 0`) into a list called column_names\n"
   ]
  },
  {
   "cell_type": "markdown",
   "metadata": {},
   "source": [
    "Check the extracted column names\n"
   ]
  },
  {
   "cell_type": "code",
   "execution_count": 58,
   "metadata": {
    "tags": []
   },
   "outputs": [
    {
     "data": {
      "text/plain": [
       "['Flight No.',\n",
       " 'Date and time ( )',\n",
       " '',\n",
       " 'Launch site',\n",
       " 'Payload',\n",
       " 'Payload mass',\n",
       " 'Orbit',\n",
       " 'Customer',\n",
       " 'Launch outcome',\n",
       " '']"
      ]
     },
     "execution_count": 58,
     "metadata": {},
     "output_type": "execute_result"
    }
   ],
   "source": [
    "column_names= column_names[0:10]\n",
    "column_names"
   ]
  },
  {
   "cell_type": "markdown",
   "metadata": {},
   "source": [
    "## TASK 3: Create a data frame by parsing the launch HTML tables\n"
   ]
  },
  {
   "cell_type": "markdown",
   "metadata": {},
   "source": [
    "We will create an empty dictionary with keys from the extracted column names in the previous task. Later, this dictionary will be converted into a Pandas dataframe\n"
   ]
  },
  {
   "cell_type": "code",
   "execution_count": 59,
   "metadata": {
    "tags": []
   },
   "outputs": [],
   "source": [
    "launch_dict= dict.fromkeys(column_names)\n",
    "\n",
    "# Remove an irrelvant column\n",
    "del launch_dict['Date and time ( )']\n",
    "\n",
    "# Let's initial the launch_dict with each value to be an empty list\n",
    "launch_dict['Flight No.'] = []\n",
    "launch_dict['Launch site'] = []\n",
    "launch_dict['Payload'] = []\n",
    "launch_dict['Payload mass'] = []\n",
    "launch_dict['Orbit'] = []\n",
    "launch_dict['Customer'] = []\n",
    "launch_dict['Launch outcome'] = []\n",
    "# Added some new columns\n",
    "launch_dict['Version Booster']=[]\n",
    "launch_dict['Booster landing']=[]\n",
    "launch_dict['Date']=[]\n",
    "launch_dict['Time']=[]"
   ]
  },
  {
   "cell_type": "code",
   "execution_count": null,
   "metadata": {
    "tags": []
   },
   "outputs": [],
   "source": []
  },
  {
   "cell_type": "markdown",
   "metadata": {},
   "source": [
    "Next, we just need to fill up the `launch_dict` with launch records extracted from table rows.\n"
   ]
  },
  {
   "cell_type": "markdown",
   "metadata": {},
   "source": [
    "Usually, HTML tables in Wiki pages are likely to contain unexpected annotations and other types of noises, such as reference links `B0004.1[8]`, missing values `N/A [e]`, inconsistent formatting, etc.\n"
   ]
  },
  {
   "cell_type": "markdown",
   "metadata": {},
   "source": [
    "To simplify the parsing process, we have provided an incomplete code snippet below to help you to fill up the `launch_dict`. Please complete the following code snippet with TODOs or you can choose to write your own logic to parse all launch tables:\n"
   ]
  },
  {
   "cell_type": "code",
   "execution_count": 73,
   "metadata": {
    "tags": []
   },
   "outputs": [
    {
     "name": "stdout",
     "output_type": "stream",
     "text": [
      "[{'Flight No.': '1', 'Date': '4 June 2010', 'Time': '18:45', 'Version Booster': 'F9 v1.0B0003.1', 'Launch Site': 'CCAFS', 'Payload': 'Dragon Spacecraft Qualification Unit', 'Payload mass': 0, 'Orbit': 'LEO', 'Customer': 'SpaceX', 'Launch outcome': 'Success\\n', 'Booster landing': 'Failure'}, {'Flight No.': '2', 'Date': '8 December 2010', 'Time': '15:43', 'Version Booster': 'F9 v1.0B0004.1', 'Launch Site': 'CCAFS', 'Payload': 'Dragon', 'Payload mass': 0, 'Orbit': 'LEO', 'Customer': 'NASA', 'Launch outcome': 'Success', 'Booster landing': 'Failure'}, {'Flight No.': '3', 'Date': '22 May 2012', 'Time': '07:44', 'Version Booster': 'F9 v1.0B0005.1', 'Launch Site': 'CCAFS', 'Payload': 'Dragon', 'Payload mass': '525 kg', 'Orbit': 'LEO', 'Customer': 'NASA', 'Launch outcome': 'Success', 'Booster landing': 'Not attempted\\n'}, {'Flight No.': '4', 'Date': '8 October 2012', 'Time': '00:35', 'Version Booster': 'F9 v1.0B0006.1', 'Launch Site': 'CCAFS', 'Payload': 'SpaceX CRS-1', 'Payload mass': '4,700 kg', 'Orbit': 'LEO', 'Customer': 'NASA', 'Launch outcome': 'Success\\n', 'Booster landing': 'No attempt'}, {'Flight No.': '5', 'Date': '1 March 2013', 'Time': '15:10', 'Version Booster': 'F9 v1.0B0007.1', 'Launch Site': 'CCAFS', 'Payload': 'SpaceX CRS-2', 'Payload mass': '4,877 kg', 'Orbit': 'LEO', 'Customer': 'NASA', 'Launch outcome': 'Success\\n', 'Booster landing': 'Not attempted\\n'}, {'Flight No.': '6', 'Date': '29 September 2013', 'Time': '16:00', 'Version Booster': 'F9 v1.1B1003', 'Launch Site': 'VAFB', 'Payload': 'CASSIOPE', 'Payload mass': '500 kg', 'Orbit': 'Polar orbit', 'Customer': 'MDA', 'Launch outcome': 'Success', 'Booster landing': 'Uncontrolled'}, {'Flight No.': '7', 'Date': '3 December 2013', 'Time': '22:41', 'Version Booster': 'F9 v1.1', 'Launch Site': 'CCAFS', 'Payload': 'SES-8', 'Payload mass': '3,170 kg', 'Orbit': 'GTO', 'Customer': 'SES', 'Launch outcome': 'Success', 'Booster landing': 'Not attempted'}, {'Flight No.': '8', 'Date': '6 January 2014', 'Time': '22:06', 'Version Booster': 'F9 v1.1', 'Launch Site': 'CCAFS', 'Payload': 'Thaicom 6', 'Payload mass': '3,325 kg', 'Orbit': 'GTO', 'Customer': 'Thaicom', 'Launch outcome': 'Success', 'Booster landing': 'Not attempted'}, {'Flight No.': '9', 'Date': '18 April 2014', 'Time': '19:25', 'Version Booster': 'F9 v1.1', 'Launch Site': 'Cape Canaveral', 'Payload': 'SpaceX CRS-3', 'Payload mass': '2,296 kg', 'Orbit': 'LEO', 'Customer': 'NASA', 'Launch outcome': 'Success\\n', 'Booster landing': 'Controlled'}, {'Flight No.': '10', 'Date': '14 July 2014', 'Time': '15:15', 'Version Booster': 'F9 v1.1', 'Launch Site': 'Cape Canaveral', 'Payload': 'Orbcomm-OG2', 'Payload mass': '1,316 kg', 'Orbit': 'LEO', 'Customer': 'Orbcomm', 'Launch outcome': 'Success', 'Booster landing': 'Controlled'}, {'Flight No.': '11', 'Date': '5 August 2014', 'Time': '08:00', 'Version Booster': 'F9 v1.1', 'Launch Site': 'Cape Canaveral', 'Payload': 'AsiaSat 8', 'Payload mass': '4,535 kg', 'Orbit': 'GTO', 'Customer': 'AsiaSat', 'Launch outcome': 'Success', 'Booster landing': 'Not attempted'}, {'Flight No.': '12', 'Date': '7 September 2014', 'Time': '05:00', 'Version Booster': 'F9 v1.1', 'Launch Site': 'Cape Canaveral', 'Payload': 'AsiaSat 6', 'Payload mass': '4,428 kg', 'Orbit': 'GTO', 'Customer': 'AsiaSat', 'Launch outcome': 'Success', 'Booster landing': 'Not attempted\\n'}, {'Flight No.': '13', 'Date': '21 September 2014', 'Time': '05:52', 'Version Booster': 'F9 v1.1', 'Launch Site': 'Cape Canaveral', 'Payload': 'SpaceX CRS-4', 'Payload mass': '2,216 kg', 'Orbit': 'LEO', 'Customer': 'NASA', 'Launch outcome': 'Success', 'Booster landing': 'Uncontrolled'}, {'Flight No.': '14', 'Date': '10 January 2015', 'Time': '09:47', 'Version Booster': 'F9 v1.1', 'Launch Site': 'Cape Canaveral', 'Payload': 'SpaceX CRS-5', 'Payload mass': '2,395 kg', 'Orbit': 'LEO', 'Customer': 'NASA', 'Launch outcome': 'Success', 'Booster landing': 'Failure '}, {'Flight No.': '15', 'Date': '11 February 2015', 'Time': '23:03', 'Version Booster': 'F9 v1.1', 'Launch Site': 'Cape Canaveral', 'Payload': 'DSCOVR', 'Payload mass': '570 kg', 'Orbit': 'HEO', 'Customer': 'USAF', 'Launch outcome': 'Success\\n', 'Booster landing': 'Controlled'}, {'Flight No.': '16', 'Date': '2 March 2015', 'Time': '03:50', 'Version Booster': 'F9 v1.1', 'Launch Site': 'Cape Canaveral', 'Payload': 'ABS-3A', 'Payload mass': '4,159 kg', 'Orbit': 'GTO', 'Customer': 'ABS', 'Launch outcome': 'Success\\n', 'Booster landing': 'Not attempted'}, {'Flight No.': '17', 'Date': '14 April 2015', 'Time': '20:10', 'Version Booster': 'F9 v1.1', 'Launch Site': 'Cape Canaveral', 'Payload': 'SpaceX CRS-6', 'Payload mass': '1,898 kg', 'Orbit': 'LEO', 'Customer': 'NASA', 'Launch outcome': 'Success\\n', 'Booster landing': 'Failure'}, {'Flight No.': '18', 'Date': '27 April 2015', 'Time': '23:03', 'Version Booster': 'F9 v1.1', 'Launch Site': 'Cape Canaveral', 'Payload': 'TürkmenÄlem 52°E / MonacoSAT', 'Payload mass': '4,707 kg', 'Orbit': 'GTO', 'Customer': None, 'Launch outcome': 'Success\\n', 'Booster landing': 'Not attempted'}, {'Flight No.': '19', 'Date': '28 June 2015', 'Time': '14:21', 'Version Booster': 'F9 v1.1', 'Launch Site': 'Cape Canaveral', 'Payload': 'SpaceX CRS-7', 'Payload mass': '1,952 kg', 'Orbit': 'LEO', 'Customer': 'NASA', 'Launch outcome': 'Failure', 'Booster landing': 'Precluded'}, {'Flight No.': '20', 'Date': '22 December 2015', 'Time': '01:29', 'Version Booster': 'F9 FT', 'Launch Site': 'Cape Canaveral', 'Payload': 'Orbcomm-OG2', 'Payload mass': '2,034 kg', 'Orbit': 'LEO', 'Customer': 'Orbcomm', 'Launch outcome': 'Success\\n', 'Booster landing': 'Success'}, {'Flight No.': '21', 'Date': '17 January 2016', 'Time': '18:42', 'Version Booster': 'F9 v1.1', 'Launch Site': 'VAFB', 'Payload': 'Jason-3', 'Payload mass': '553 kg', 'Orbit': 'LEO', 'Customer': 'NASA', 'Launch outcome': 'Success\\n', 'Booster landing': 'Failure'}, {'Flight No.': '22', 'Date': '4 March 2016', 'Time': '23:35', 'Version Booster': 'F9 FT', 'Launch Site': 'Cape Canaveral', 'Payload': 'SES-9', 'Payload mass': '5,271 kg', 'Orbit': 'GTO', 'Customer': 'SES', 'Launch outcome': 'Success\\n', 'Booster landing': 'Failure'}, {'Flight No.': '23', 'Date': '8 April 2016', 'Time': '20:43', 'Version Booster': 'F9 FT', 'Launch Site': 'Cape Canaveral', 'Payload': 'SpaceX CRS-8', 'Payload mass': '3,136 kg', 'Orbit': 'LEO', 'Customer': 'NASA', 'Launch outcome': 'Success', 'Booster landing': 'Success'}, {'Flight No.': '24', 'Date': '6 May 2016', 'Time': '05:21', 'Version Booster': 'F9 FT', 'Launch Site': 'Cape Canaveral', 'Payload': 'JCSAT-14', 'Payload mass': '4,696 kg', 'Orbit': 'GTO', 'Customer': 'SKY Perfect JSAT Group', 'Launch outcome': 'Success\\n', 'Booster landing': 'Success'}, {'Flight No.': '25', 'Date': '27 May 2016', 'Time': '21:39', 'Version Booster': 'F9 FT', 'Launch Site': 'Cape Canaveral', 'Payload': 'Thaicom 8', 'Payload mass': '3,100 kg', 'Orbit': 'GTO', 'Customer': 'Thaicom', 'Launch outcome': 'Success\\n', 'Booster landing': 'Success'}, {'Flight No.': '26', 'Date': '15 June 2016', 'Time': '14:29', 'Version Booster': 'F9 FT', 'Launch Site': 'Cape Canaveral', 'Payload': 'ABS-2A', 'Payload mass': '3,600 kg', 'Orbit': 'GTO', 'Customer': 'ABS', 'Launch outcome': 'Success\\n', 'Booster landing': 'Failure'}, {'Flight No.': '27', 'Date': '18 July 2016', 'Time': '04:45', 'Version Booster': 'F9 FT', 'Launch Site': 'Cape Canaveral', 'Payload': 'SpaceX CRS-9', 'Payload mass': '2,257 kg', 'Orbit': 'LEO', 'Customer': 'NASA', 'Launch outcome': 'Success\\n', 'Booster landing': 'Success'}, {'Flight No.': '28', 'Date': '14 August 2016', 'Time': '05:26', 'Version Booster': 'F9 FT', 'Launch Site': 'Cape Canaveral', 'Payload': 'JCSAT-16', 'Payload mass': '4,600 kg', 'Orbit': 'GTO', 'Customer': 'SKY Perfect JSAT Group', 'Launch outcome': 'Success\\n', 'Booster landing': 'Success'}, {'Flight No.': '29', 'Date': '14 January 2017', 'Time': '17:54', 'Version Booster': 'F9 FT', 'Launch Site': 'VAFB', 'Payload': 'Iridium NEXT', 'Payload mass': '9,600 kg', 'Orbit': 'Polar', 'Customer': 'Iridium Communications', 'Launch outcome': 'Success\\n', 'Booster landing': 'Success'}, {'Flight No.': '30', 'Date': '19 February 2017', 'Time': '14:39', 'Version Booster': 'F9 FT', 'Launch Site': 'KSC', 'Payload': 'SpaceX CRS-10', 'Payload mass': '2,490 kg', 'Orbit': 'LEO', 'Customer': 'NASA', 'Launch outcome': 'Success\\n', 'Booster landing': 'Success'}, {'Flight No.': '31', 'Date': '16 March 2017', 'Time': '06:00', 'Version Booster': 'F9 FT', 'Launch Site': 'KSC', 'Payload': 'EchoStar 23', 'Payload mass': '5,600 kg', 'Orbit': 'GTO', 'Customer': 'EchoStar', 'Launch outcome': 'Success\\n', 'Booster landing': 'Not attempted'}, {'Flight No.': '32', 'Date': '30 March 2017', 'Time': '22:27', 'Version Booster': 'F9 FT♺', 'Launch Site': 'KSC', 'Payload': 'SES-10', 'Payload mass': '5,300 kg', 'Orbit': 'GTO', 'Customer': 'SES', 'Launch outcome': 'Success', 'Booster landing': 'Success'}, {'Flight No.': '33', 'Date': '1 May 2017', 'Time': '11:15', 'Version Booster': 'F9 FT', 'Launch Site': 'KSC', 'Payload': 'NROL-76', 'Payload mass': 'C', 'Orbit': 'LEO', 'Customer': 'NRO', 'Launch outcome': 'Success\\n', 'Booster landing': 'Success'}, {'Flight No.': '34', 'Date': '15 May 2017', 'Time': '23:21', 'Version Booster': 'F9 FT', 'Launch Site': 'KSC', 'Payload': 'Inmarsat-5 F4', 'Payload mass': '6,070 kg', 'Orbit': 'GTO', 'Customer': 'Inmarsat', 'Launch outcome': 'Success\\n', 'Booster landing': 'Not attempted'}, {'Flight No.': '35', 'Date': '3 June 2017', 'Time': '21:07', 'Version Booster': 'F9 FT', 'Launch Site': 'KSC', 'Payload': 'SpaceX CRS-11', 'Payload mass': '2,708 kg', 'Orbit': 'LEO', 'Customer': 'NASA', 'Launch outcome': 'Success\\n', 'Booster landing': 'Success'}, {'Flight No.': '36', 'Date': '23 June 2017', 'Time': '19:10', 'Version Booster': 'F9 FTB1029.2', 'Launch Site': 'KSC', 'Payload': 'BulgariaSat-1', 'Payload mass': '3,669 kg', 'Orbit': 'GTO', 'Customer': 'Bulsatcom', 'Launch outcome': 'Success\\n', 'Booster landing': 'Success'}, {'Flight No.': '37', 'Date': '25 June 2017', 'Time': '20:25', 'Version Booster': 'F9 FT', 'Launch Site': 'VAFB', 'Payload': 'Iridium NEXT', 'Payload mass': '9,600 kg', 'Orbit': 'LEO', 'Customer': 'Iridium Communications', 'Launch outcome': 'Success\\n', 'Booster landing': 'Success'}, {'Flight No.': '38', 'Date': '5 July 2017', 'Time': '23:38', 'Version Booster': 'F9 FT', 'Launch Site': 'KSC', 'Payload': 'Intelsat 35e', 'Payload mass': '6,761 kg', 'Orbit': 'GTO', 'Customer': 'Intelsat', 'Launch outcome': 'Success\\n', 'Booster landing': 'Not attempted'}, {'Flight No.': '39', 'Date': '14 August 2017', 'Time': '16:31', 'Version Booster': 'F9 B4', 'Launch Site': 'KSC', 'Payload': 'SpaceX CRS-12', 'Payload mass': '3,310 kg', 'Orbit': 'LEO', 'Customer': 'NASA', 'Launch outcome': 'Success\\n', 'Booster landing': 'Success'}, {'Flight No.': '40', 'Date': '24 August 2017', 'Time': '18:51', 'Version Booster': 'F9 FT', 'Launch Site': 'VAFB', 'Payload': 'Formosat-5', 'Payload mass': '475 kg', 'Orbit': 'SSO', 'Customer': 'NSPO', 'Launch outcome': 'Success\\n', 'Booster landing': 'Success'}, {'Flight No.': '41', 'Date': '7 September 2017', 'Time': '14:00', 'Version Booster': 'F9 B4', 'Launch Site': 'KSC', 'Payload': 'Boeing X-37B', 'Payload mass': '4,990 kg', 'Orbit': 'LEO', 'Customer': 'USAF', 'Launch outcome': 'Success\\n', 'Booster landing': 'Success'}, {'Flight No.': '42', 'Date': '9 October 2017', 'Time': '12:37', 'Version Booster': 'F9 B4', 'Launch Site': 'VAFB', 'Payload': 'Iridium NEXT', 'Payload mass': '9,600 kg', 'Orbit': 'Polar', 'Customer': 'Iridium Communications', 'Launch outcome': 'Success\\n', 'Booster landing': 'Success'}, {'Flight No.': '43', 'Date': '11 October 2017', 'Time': '22:53:00', 'Version Booster': 'F9 FTB1031.2', 'Launch Site': 'KSC', 'Payload': 'SES-11', 'Payload mass': '5,200 kg', 'Orbit': 'GTO', 'Customer': 'SES S.A.', 'Launch outcome': 'Success\\n', 'Booster landing': 'Success'}, {'Flight No.': '44', 'Date': '30 October 2017', 'Time': '19:34', 'Version Booster': 'F9 B4', 'Launch Site': 'KSC', 'Payload': 'Koreasat 5A', 'Payload mass': '3,500 kg', 'Orbit': 'GTO', 'Customer': 'KT Corporation', 'Launch outcome': 'Success\\n', 'Booster landing': 'Success'}, {'Flight No.': '45', 'Date': '15 December 2017', 'Time': '15:36', 'Version Booster': 'F9 FTB1035.2', 'Launch Site': 'Cape Canaveral', 'Payload': 'SpaceX CRS-13', 'Payload mass': '2,205 kg', 'Orbit': 'LEO', 'Customer': 'NASA', 'Launch outcome': 'Success\\n', 'Booster landing': 'Success'}, {'Flight No.': '46', 'Date': '23 December 2017', 'Time': '01:27', 'Version Booster': 'F9 FTB1036.2', 'Launch Site': 'VAFB', 'Payload': 'Iridium NEXT', 'Payload mass': '9,600 kg', 'Orbit': 'Polar', 'Customer': 'Iridium Communications', 'Launch outcome': 'Success', 'Booster landing': 'Controlled'}, {'Flight No.': '47', 'Date': '8 January 2018', 'Time': '01:00', 'Version Booster': 'F9 B4', 'Launch Site': 'CCAFS', 'Payload': 'Zuma', 'Payload mass': 'C', 'Orbit': 'LEO', 'Customer': 'Northrop Grumman', 'Launch outcome': 'Success', 'Booster landing': 'Success'}, {'Flight No.': '48', 'Date': '31 January 2018', 'Time': '21:25', 'Version Booster': 'F9 FTB1032.2', 'Launch Site': 'CCAFS', 'Payload': 'GovSat-1', 'Payload mass': '4,230 kg', 'Orbit': 'GTO', 'Customer': 'SES', 'Launch outcome': 'Success', 'Booster landing': 'Controlled'}, {'Flight No.': '49', 'Date': '22 February 2018', 'Time': '14:17', 'Version Booster': 'F9 FTB1038.2', 'Launch Site': 'VAFB', 'Payload': 'Paz', 'Payload mass': '2,150 kg', 'Orbit': 'SSO', 'Customer': 'Hisdesat', 'Launch outcome': 'Success', 'Booster landing': 'Not attempted'}, {'Flight No.': '50', 'Date': '6 March 2018', 'Time': '05:33', 'Version Booster': 'F9 B4', 'Launch Site': 'CCAFS', 'Payload': 'Hispasat 30W-6', 'Payload mass': '6,092 kg', 'Orbit': 'GTO', 'Customer': 'Hispasat', 'Launch outcome': 'Success', 'Booster landing': 'No attempt'}, {'Flight No.': '51', 'Date': '30 March 2018', 'Time': '14:14', 'Version Booster': 'F9 B4B1041.2', 'Launch Site': 'VAFB', 'Payload': 'Iridium NEXT', 'Payload mass': '9,600 kg', 'Orbit': 'Polar', 'Customer': 'Iridium Communications', 'Launch outcome': 'Success', 'Booster landing': 'No attempt'}, {'Flight No.': '52', 'Date': '2 April 2018', 'Time': '20:30', 'Version Booster': 'F9 B4B1039.2', 'Launch Site': 'CCAFS', 'Payload': 'SpaceX CRS-14', 'Payload mass': '2,647 kg', 'Orbit': 'LEO', 'Customer': 'NASA', 'Launch outcome': 'Success', 'Booster landing': 'Not attempted'}, {'Flight No.': '53', 'Date': '18 April 2018', 'Time': '22:51', 'Version Booster': 'F9 B4', 'Launch Site': 'CCAFS', 'Payload': 'Transiting Exoplanet Survey Satellite', 'Payload mass': '362 kg', 'Orbit': 'HEO', 'Customer': 'NASA', 'Launch outcome': 'Success', 'Booster landing': 'Success'}, {'Flight No.': '54', 'Date': '11 May 2018', 'Time': '20:14', 'Version Booster': 'F9 B5B1046.1', 'Launch Site': 'KSC', 'Payload': 'Bangabandhu-1', 'Payload mass': '3,600 kg', 'Orbit': 'GTO', 'Customer': 'Thales-Alenia', 'Launch outcome': 'Success', 'Booster landing': 'Success'}, {'Flight No.': '55', 'Date': '22 May 2018', 'Time': '19:47', 'Version Booster': 'F9 B4B1043.2', 'Launch Site': 'VAFB', 'Payload': 'Iridium NEXT', 'Payload mass': '6,460 kg', 'Orbit': 'Polar', 'Customer': 'Iridium Communications', 'Launch outcome': 'Success', 'Booster landing': 'Not attempted'}, {'Flight No.': '56', 'Date': '4 June 2018', 'Time': '04:45', 'Version Booster': 'F9 B4B1040.2', 'Launch Site': 'CCAFS', 'Payload': 'SES-12', 'Payload mass': '5,384 kg', 'Orbit': 'GTO', 'Customer': 'SES', 'Launch outcome': 'Success', 'Booster landing': 'Not attempted'}, {'Flight No.': '57', 'Date': '29 June 2018', 'Time': '09:42', 'Version Booster': 'F9 B4B1045.2', 'Launch Site': 'CCAFS', 'Payload': 'SpaceX CRS-15', 'Payload mass': '2,697 kg', 'Orbit': 'LEO', 'Customer': 'NASA', 'Launch outcome': 'Success', 'Booster landing': 'Not attempted'}, {'Flight No.': '58', 'Date': '22 July 2018', 'Time': '05:50', 'Version Booster': 'F9 B5', 'Launch Site': 'CCAFS', 'Payload': 'Telstar 19V', 'Payload mass': '7,075 kg', 'Orbit': 'GTO', 'Customer': 'Telesat', 'Launch outcome': 'Success', 'Booster landing': 'Success'}, {'Flight No.': '59', 'Date': '25 July 2018', 'Time': '11:39', 'Version Booster': 'F9 B5B1048', 'Launch Site': 'VAFB', 'Payload': 'Iridium NEXT', 'Payload mass': '9,600 kg', 'Orbit': 'Polar', 'Customer': 'Iridium Communications', 'Launch outcome': 'Success', 'Booster landing': 'Success'}, {'Flight No.': '60', 'Date': '7 August 2018', 'Time': '05:18', 'Version Booster': 'F9 B5B1046.2', 'Launch Site': 'CCAFS', 'Payload': 'Merah Putih', 'Payload mass': '5,800 kg', 'Orbit': 'GTO', 'Customer': 'Telkom Indonesia', 'Launch outcome': 'Success', 'Booster landing': 'Success'}, {'Flight No.': '61', 'Date': '10 September 2018', 'Time': '04:45', 'Version Booster': 'F9 B5', 'Launch Site': 'CCAFS', 'Payload': 'Telstar 18V', 'Payload mass': '7,060 kg', 'Orbit': 'GTO', 'Customer': 'Telesat', 'Launch outcome': 'Success', 'Booster landing': 'Success'}, {'Flight No.': '62', 'Date': '8 October 2018', 'Time': '02:22', 'Version Booster': 'F9 B5B1048.2', 'Launch Site': 'VAFB', 'Payload': 'SAOCOM 1A', 'Payload mass': '3,000 kg', 'Orbit': 'SSO', 'Customer': 'CONAE', 'Launch outcome': 'Success', 'Booster landing': 'Success'}, {'Flight No.': '63', 'Date': '15 November 2018', 'Time': '20:46', 'Version Booster': 'F9 B5B1047.2', 'Launch Site': 'KSC', 'Payload': \"Es'hail 2\", 'Payload mass': '5,300 kg', 'Orbit': 'GTO', 'Customer': \"Es'hailSat\", 'Launch outcome': 'Success', 'Booster landing': 'Success'}, {'Flight No.': '64', 'Date': '3 December 2018', 'Time': '18:34:05', 'Version Booster': 'F9 B5B1046.3', 'Launch Site': 'VAFB', 'Payload': 'SSO-A', 'Payload mass': '~4,000 kg', 'Orbit': 'SSO', 'Customer': 'Spaceflight Industries', 'Launch outcome': 'Success', 'Booster landing': 'Success'}, {'Flight No.': '65', 'Date': '5 December 2018', 'Time': '18:16', 'Version Booster': 'F9 B5', 'Launch Site': 'CCAFS', 'Payload': 'SpaceX CRS-16', 'Payload mass': '2,500 kg', 'Orbit': 'LEO', 'Customer': 'NASA', 'Launch outcome': 'Success\\n', 'Booster landing': 'Failure'}, {'Flight No.': '66', 'Date': '23 December 2018', 'Time': '13:51', 'Version Booster': 'F9 B5', 'Launch Site': 'CCAFS', 'Payload': 'GPS III', 'Payload mass': '4,400 kg', 'Orbit': 'MEO', 'Customer': 'USAF', 'Launch outcome': 'Success', 'Booster landing': 'Not attempted'}, {'Flight No.': '67', 'Date': '11 January 2019', 'Time': '15:31', 'Version Booster': 'F9 B5B1049.2', 'Launch Site': 'VAFB', 'Payload': 'Iridium NEXT', 'Payload mass': '9,600 kg', 'Orbit': 'Polar', 'Customer': 'Iridium Communications', 'Launch outcome': 'Success\\n', 'Booster landing': 'Success'}, {'Flight No.': '68', 'Date': '22 February 2019', 'Time': '01:45', 'Version Booster': 'F9 B5B1048.3', 'Launch Site': 'CCAFS', 'Payload': 'Nusantara Satu', 'Payload mass': '4,850 kg', 'Orbit': 'GTO', 'Customer': 'PSN', 'Launch outcome': 'Success\\n', 'Booster landing': 'Success'}, {'Flight No.': '69', 'Date': '2 March 2019', 'Time': '07:49', 'Version Booster': 'F9 B5[268]', 'Launch Site': 'KSC', 'Payload': 'Crew Dragon Demo-1', 'Payload mass': '12,055 kg', 'Orbit': 'LEO', 'Customer': 'NASA', 'Launch outcome': 'Success\\n', 'Booster landing': 'Success'}, {'Flight No.': '70', 'Date': '4 May 2019', 'Time': '06:48', 'Version Booster': 'F9 B5', 'Launch Site': 'CCAFS', 'Payload': 'SpaceX CRS-17', 'Payload mass': '2,495 kg', 'Orbit': 'LEO', 'Customer': 'NASA', 'Launch outcome': 'Success\\n', 'Booster landing': 'Success'}, {'Flight No.': '71', 'Date': '24 May 2019', 'Time': '02:30', 'Version Booster': 'F9 B5B1049.3', 'Launch Site': 'CCAFS', 'Payload': 'Starlink', 'Payload mass': '13,620 kg', 'Orbit': 'LEO', 'Customer': 'SpaceX', 'Launch outcome': 'Success\\n', 'Booster landing': 'Success'}, {'Flight No.': '72', 'Date': '12 June 2019', 'Time': '14:17', 'Version Booster': 'F9 B5B1051.2', 'Launch Site': 'VAFB', 'Payload': 'RADARSAT Constellation', 'Payload mass': '4,200 kg', 'Orbit': 'SSO', 'Customer': 'Canadian Space Agency', 'Launch outcome': 'Success\\n', 'Booster landing': 'Success'}, {'Flight No.': '73', 'Date': '25 July 2019', 'Time': '22:01', 'Version Booster': 'F9 B5B1056.2', 'Launch Site': 'CCAFS', 'Payload': 'SpaceX CRS-18', 'Payload mass': '2,268 kg', 'Orbit': 'LEO', 'Customer': 'NASA', 'Launch outcome': 'Success\\n', 'Booster landing': 'Success'}, {'Flight No.': '74', 'Date': '6 August 2019', 'Time': '23:23', 'Version Booster': 'F9 B5B1047.3', 'Launch Site': 'CCAFS', 'Payload': 'AMOS-17', 'Payload mass': '6,500 kg', 'Orbit': 'GTO', 'Customer': 'Spacecom', 'Launch outcome': 'Success\\n', 'Booster landing': 'Not attempted'}, {'Flight No.': '75', 'Date': '11 November 2019', 'Time': '14:56', 'Version Booster': 'F9 B5', 'Launch Site': 'CCAFS', 'Payload': 'Starlink', 'Payload mass': '15,600 kg', 'Orbit': 'LEO', 'Customer': 'SpaceX', 'Launch outcome': 'Success\\n', 'Booster landing': 'Success'}, {'Flight No.': '76', 'Date': '5 December 2019', 'Time': '17:29', 'Version Booster': 'F9 B5', 'Launch Site': 'CCAFS', 'Payload': 'SpaceX CRS-19', 'Payload mass': '2,617 kg', 'Orbit': 'LEO', 'Customer': 'NASA', 'Launch outcome': 'Success\\n', 'Booster landing': 'Success'}, {'Flight No.': '77', 'Date': '17 December 2019', 'Time': '00:10', 'Version Booster': 'F9 B5B1056.3', 'Launch Site': 'CCAFS', 'Payload': 'JCSat-18', 'Payload mass': '6,956 kg', 'Orbit': 'GTO', 'Customer': 'Sky Perfect JSAT', 'Launch outcome': 'Success\\n', 'Booster landing': 'Success'}, {'Flight No.': '78', 'Date': '7 January 2020', 'Time': '02:19:21', 'Version Booster': 'F9 B5', 'Launch Site': 'CCAFS', 'Payload': 'Starlink', 'Payload mass': '15,600 kg', 'Orbit': 'LEO', 'Customer': 'SpaceX', 'Launch outcome': 'Success\\n', 'Booster landing': 'Success'}, {'Flight No.': '79', 'Date': '19 January 2020', 'Time': '15:30', 'Version Booster': 'F9 B5', 'Launch Site': 'KSC', 'Payload': 'Crew Dragon in-flight abort test', 'Payload mass': '12,050 kg', 'Orbit': 'Sub-orbital', 'Customer': 'NASA', 'Launch outcome': 'Success\\n', 'Booster landing': 'Not attempted\\n'}, {'Flight No.': '80', 'Date': '29 January 2020', 'Time': '14:07', 'Version Booster': 'F9 B5', 'Launch Site': 'CCAFS', 'Payload': 'Starlink', 'Payload mass': '15,600 kg', 'Orbit': 'LEO', 'Customer': 'SpaceX', 'Launch outcome': 'Success\\n', 'Booster landing': 'Success'}, {'Flight No.': '81', 'Date': '17 February 2020', 'Time': '15:05', 'Version Booster': 'F9 B5', 'Launch Site': 'CCAFS', 'Payload': 'Starlink', 'Payload mass': '15,600 kg', 'Orbit': 'LEO', 'Customer': 'SpaceX', 'Launch outcome': 'Success\\n', 'Booster landing': 'Failure'}, {'Flight No.': '82', 'Date': '7 March 2020', 'Time': '04:50', 'Version Booster': 'F9 B5', 'Launch Site': 'CCAFS', 'Payload': 'SpaceX CRS-20', 'Payload mass': '1,977 kg', 'Orbit': 'LEO', 'Customer': 'NASA', 'Launch outcome': 'Success\\n', 'Booster landing': 'Success'}, {'Flight No.': '83', 'Date': '18 March 2020', 'Time': '12:16', 'Version Booster': 'F9 B5', 'Launch Site': 'KSC', 'Payload': 'Starlink', 'Payload mass': '15,600 kg', 'Orbit': 'LEO', 'Customer': 'SpaceX', 'Launch outcome': 'Success\\n', 'Booster landing': 'Failure'}, {'Flight No.': '84', 'Date': '22 April 2020', 'Time': '19:30', 'Version Booster': 'F9 B5', 'Launch Site': 'KSC', 'Payload': 'Starlink', 'Payload mass': '15,600 kg', 'Orbit': 'LEO', 'Customer': 'SpaceX', 'Launch outcome': 'Success\\n', 'Booster landing': 'Success'}, {'Flight No.': '85', 'Date': '30 May 2020', 'Time': '19:22', 'Version Booster': 'F9 B5', 'Launch Site': 'KSC', 'Payload': 'Crew Dragon Demo-2', 'Payload mass': '12,530 kg', 'Orbit': 'LEO', 'Customer': 'NASA', 'Launch outcome': 'Success\\n', 'Booster landing': 'Success'}, {'Flight No.': '86', 'Date': '4 June 2020', 'Time': '01:25', 'Version Booster': 'F9 B5', 'Launch Site': 'CCAFS', 'Payload': 'Starlink', 'Payload mass': '15,600 kg', 'Orbit': 'LEO', 'Customer': 'SpaceX', 'Launch outcome': 'Success\\n', 'Booster landing': 'Success'}, {'Flight No.': '87', 'Date': '13 June 2020', 'Time': '09:21', 'Version Booster': 'F9 B5', 'Launch Site': 'CCAFS', 'Payload': 'Starlink', 'Payload mass': '15,410 kg', 'Orbit': 'LEO', 'Customer': 'SpaceX', 'Launch outcome': 'Success\\n', 'Booster landing': 'Success'}, {'Flight No.': '88', 'Date': '30 June 2020', 'Time': '20:10:46', 'Version Booster': 'F9 B5', 'Launch Site': 'CCAFS', 'Payload': 'GPS III', 'Payload mass': '4,311 kg', 'Orbit': 'MEO', 'Customer': 'U.S. Space Force', 'Launch outcome': 'Success\\n', 'Booster landing': 'Success'}, {'Flight No.': '89', 'Date': '20 July 2020', 'Time': '21:30', 'Version Booster': 'F9 B5B1058.2', 'Launch Site': 'CCAFS', 'Payload': 'ANASIS-II', 'Payload mass': '5,000–6,000 kg', 'Orbit': 'GTO', 'Customer': 'Republic of Korea Army', 'Launch outcome': 'Success\\n', 'Booster landing': 'Success'}, {'Flight No.': '90', 'Date': '7 August 2020', 'Time': '05:12', 'Version Booster': 'F9 B5', 'Launch Site': 'KSC', 'Payload': 'Starlink', 'Payload mass': '14,932 kg', 'Orbit': 'LEO', 'Customer': 'SpaceX', 'Launch outcome': 'Success\\n', 'Booster landing': 'Success'}, {'Flight No.': '91', 'Date': '18 August 2020', 'Time': '14:31', 'Version Booster': 'F9 B5B1049.6', 'Launch Site': 'CCAFS', 'Payload': 'Starlink', 'Payload mass': '~15,440 kg', 'Orbit': 'LEO', 'Customer': 'SpaceX', 'Launch outcome': 'Success\\n', 'Booster landing': 'Success'}, {'Flight No.': '92', 'Date': '30 August 2020', 'Time': '23:18', 'Version Booster': 'F9 B5', 'Launch Site': 'CCAFS', 'Payload': 'SAOCOM 1B', 'Payload mass': '3,130 kg', 'Orbit': 'SSO', 'Customer': 'CONAE', 'Launch outcome': 'Success\\n', 'Booster landing': 'Success'}, {'Flight No.': '93', 'Date': '3 September 2020', 'Time': '12:46:14', 'Version Booster': 'F9 B5B1060.2', 'Launch Site': 'KSC', 'Payload': 'Starlink', 'Payload mass': '15,600 kg', 'Orbit': 'LEO', 'Customer': 'SpaceX', 'Launch outcome': 'Success\\n', 'Booster landing': 'Success'}, {'Flight No.': '94', 'Date': '6 October 2020', 'Time': '11:29:34', 'Version Booster': 'F9 B5B1058.3', 'Launch Site': 'KSC', 'Payload': 'Starlink', 'Payload mass': '15,600 kg', 'Orbit': 'LEO', 'Customer': 'SpaceX', 'Launch outcome': 'Success\\n', 'Booster landing': 'Success'}, {'Flight No.': '95', 'Date': '18 October 2020', 'Time': '12:25:57', 'Version Booster': 'F9 B5B1051.6', 'Launch Site': 'KSC', 'Payload': 'Starlink', 'Payload mass': '15,600 kg', 'Orbit': 'LEO', 'Customer': 'SpaceX', 'Launch outcome': 'Success\\n', 'Booster landing': 'Success'}, {'Flight No.': '96', 'Date': '24 October 2020', 'Time': '15:31:34', 'Version Booster': 'F9 B5', 'Launch Site': 'CCAFS', 'Payload': 'Starlink', 'Payload mass': '15,600 kg', 'Orbit': 'LEO', 'Customer': 'SpaceX', 'Launch outcome': 'Success\\n', 'Booster landing': 'Success'}, {'Flight No.': '97', 'Date': '5 November 2020', 'Time': '23:24:23', 'Version Booster': 'F9 B5', 'Launch Site': 'CCAFS', 'Payload': 'GPS III', 'Payload mass': '4,311 kg', 'Orbit': 'MEO', 'Customer': 'USSF', 'Launch outcome': 'Success\\n', 'Booster landing': 'Success'}, {'Flight No.': '98', 'Date': '16 November 2020', 'Time': '00:27', 'Version Booster': 'F9 B5', 'Launch Site': 'KSC', 'Payload': 'Crew-1', 'Payload mass': '~12,500 kg', 'Orbit': 'LEO', 'Customer': 'NASA', 'Launch outcome': 'Success\\n', 'Booster landing': 'Success'}, {'Flight No.': '99', 'Date': '21 November 2020', 'Time': '17:17:08', 'Version Booster': 'F9 B5', 'Launch Site': 'VAFB', 'Payload': 'Sentinel-6 Michael Freilich (Jason-CS A)', 'Payload mass': '1,192 kg', 'Orbit': 'LEO', 'Customer': 'NASA', 'Launch outcome': 'Success\\n', 'Booster landing': 'Success'}, {'Flight No.': '100', 'Date': '25 November 2020', 'Time': '02:13', 'Version Booster': 'F9 B5 ♺', 'Launch Site': 'CCAFS', 'Payload': 'Starlink', 'Payload mass': '15,600 kg', 'Orbit': 'LEO', 'Customer': 'SpaceX', 'Launch outcome': 'Success\\n', 'Booster landing': 'Success'}, {'Flight No.': '101', 'Date': '6 December 2020', 'Time': '16:17:08', 'Version Booster': 'F9 B5 ♺', 'Launch Site': 'KSC', 'Payload': 'SpaceX CRS-21', 'Payload mass': '2,972 kg', 'Orbit': 'LEO', 'Customer': 'NASA', 'Launch outcome': 'Success\\n', 'Booster landing': 'Success'}, {'Flight No.': '102', 'Date': '13 December 2020', 'Time': '17:30:00', 'Version Booster': 'F9 B5 ♺', 'Launch Site': 'CCSFS', 'Payload': 'SXM-7', 'Payload mass': '7,000 kg', 'Orbit': 'GTO', 'Customer': 'Sirius XM', 'Launch outcome': 'Success\\n', 'Booster landing': 'Success'}, {'Flight No.': '103', 'Date': '19 December 2020', 'Time': '14:00:00', 'Version Booster': 'F9 B5 ♺', 'Launch Site': 'KSC', 'Payload': 'NROL-108', 'Payload mass': 'C', 'Orbit': 'LEO', 'Customer': 'NRO', 'Launch outcome': 'Success\\n', 'Booster landing': 'Success'}, {'Flight No.': '104', 'Date': '8 January 2021', 'Time': '02:15', 'Version Booster': 'F9 B5', 'Launch Site': 'CCSFS', 'Payload': 'Türksat 5A', 'Payload mass': '3,500 kg', 'Orbit': 'GTO', 'Customer': 'Türksat', 'Launch outcome': 'Success\\n', 'Booster landing': 'Success'}, {'Flight No.': '105', 'Date': '20 January 2021', 'Time': '13:02', 'Version Booster': 'F9 B5B1051.8', 'Launch Site': 'KSC', 'Payload': 'Starlink', 'Payload mass': '15,600 kg', 'Orbit': 'LEO', 'Customer': 'SpaceX', 'Launch outcome': 'Success\\n', 'Booster landing': 'Success'}, {'Flight No.': '106', 'Date': '24 January 2021', 'Time': '15:00', 'Version Booster': 'F9 B5B1058.5', 'Launch Site': 'CCSFS', 'Payload': 'Transporter-1', 'Payload mass': '~5,000 kg', 'Orbit': 'SSO', 'Customer': None, 'Launch outcome': 'Success\\n', 'Booster landing': 'Success'}, {'Flight No.': '107', 'Date': '4 February 2021', 'Time': '06:19', 'Version Booster': 'F9 B5 ♺', 'Launch Site': 'CCSFS', 'Payload': 'Starlink', 'Payload mass': '15,600 kg', 'Orbit': 'LEO', 'Customer': 'SpaceX', 'Launch outcome': 'Success\\n', 'Booster landing': 'Success'}, {'Flight No.': '108', 'Date': '16 February 2021', 'Time': '03:59:37', 'Version Booster': 'F9 B5 ♺', 'Launch Site': 'CCSFS', 'Payload': 'Starlink', 'Payload mass': '15,600 kg', 'Orbit': 'LEO', 'Customer': 'SpaceX', 'Launch outcome': 'Success\\n', 'Booster landing': 'Failure'}, {'Flight No.': '109', 'Date': '4 March 2021', 'Time': '08:24', 'Version Booster': 'F9 B5 ♺', 'Launch Site': 'KSC', 'Payload': 'Starlink', 'Payload mass': '15,600 kg', 'Orbit': 'LEO', 'Customer': 'SpaceX', 'Launch outcome': 'Success\\n', 'Booster landing': 'Success'}, {'Flight No.': '110', 'Date': '11 March 2021', 'Time': '08:13:29', 'Version Booster': 'F9 B5 ♺', 'Launch Site': 'CCSFS', 'Payload': 'Starlink', 'Payload mass': '15,600 kg', 'Orbit': 'LEO', 'Customer': 'SpaceX', 'Launch outcome': 'Success\\n', 'Booster landing': 'Success'}, {'Flight No.': '111', 'Date': '14 March 2021', 'Time': '10:01', 'Version Booster': 'F9 B5 ♺', 'Launch Site': 'KSC', 'Payload': 'Starlink', 'Payload mass': '15,600 kg', 'Orbit': 'LEO', 'Customer': 'SpaceX', 'Launch outcome': 'Success\\n', 'Booster landing': 'Success'}, {'Flight No.': '112', 'Date': '24 March 2021', 'Time': '08:28', 'Version Booster': 'F9 B5B1060.6', 'Launch Site': 'CCSFS', 'Payload': 'Starlink', 'Payload mass': '15,600 kg', 'Orbit': 'LEO', 'Customer': 'SpaceX', 'Launch outcome': 'Success\\n', 'Booster landing': 'Success'}, {'Flight No.': '113', 'Date': '7 April 2021', 'Time': '16:34', 'Version Booster': 'F9 B5 ♺', 'Launch Site': 'CCSFS', 'Payload': 'Starlink', 'Payload mass': '15,600 kg', 'Orbit': 'LEO', 'Customer': 'SpaceX', 'Launch outcome': 'Success\\n', 'Booster landing': 'Success'}, {'Flight No.': '114', 'Date': '23 April 2021', 'Time': '9:49', 'Version Booster': 'F9 B5B1061.2', 'Launch Site': 'KSC', 'Payload': 'Crew-2', 'Payload mass': '~13,000 kg', 'Orbit': 'LEO', 'Customer': 'NASA', 'Launch outcome': 'Success\\n', 'Booster landing': 'Success'}, {'Flight No.': '115', 'Date': '29 April 2021', 'Time': '03:44', 'Version Booster': 'F9 B5B1060.7', 'Launch Site': 'CCSFS', 'Payload': 'Starlink', 'Payload mass': '15,600 kg', 'Orbit': 'LEO', 'Customer': 'SpaceX', 'Launch outcome': 'Success\\n', 'Booster landing': 'Success'}, {'Flight No.': '116', 'Date': '4 May 2021', 'Time': '19:01', 'Version Booster': 'F9 B5B1049.9', 'Launch Site': 'KSC', 'Payload': 'Starlink', 'Payload mass': '15,600 kg', 'Orbit': 'LEO', 'Customer': 'SpaceX', 'Launch outcome': 'Success\\n', 'Booster landing': 'Success'}, {'Flight No.': '117', 'Date': '9 May 2021', 'Time': '06:42', 'Version Booster': 'F9 B5B1051.10', 'Launch Site': 'CCSFS', 'Payload': 'Starlink', 'Payload mass': '15,600 kg', 'Orbit': 'LEO', 'Customer': 'SpaceX', 'Launch outcome': 'Success\\n', 'Booster landing': 'Success'}, {'Flight No.': '118', 'Date': '15 May 2021', 'Time': '22:56', 'Version Booster': 'F9 B5B1058.8', 'Launch Site': 'KSC', 'Payload': 'Starlink', 'Payload mass': '~14,000 kg', 'Orbit': 'LEO', 'Customer': 'SpaceX', 'Launch outcome': 'Success\\n', 'Booster landing': 'Success'}, {'Flight No.': '119', 'Date': '26 May 2021', 'Time': '18:59', 'Version Booster': 'F9 B5B1063.2', 'Launch Site': 'CCSFS', 'Payload': 'Starlink', 'Payload mass': '15,600 kg', 'Orbit': 'LEO', 'Customer': 'SpaceX', 'Launch outcome': 'Success\\n', 'Booster landing': 'Success'}, {'Flight No.': '120', 'Date': '3 June 2021', 'Time': '17:29', 'Version Booster': 'F9 B5B1067.1', 'Launch Site': 'KSC', 'Payload': 'SpaceX CRS-22', 'Payload mass': '3,328 kg', 'Orbit': 'LEO', 'Customer': 'NASA', 'Launch outcome': 'Success\\n', 'Booster landing': 'Success'}, {'Flight No.': '121', 'Date': '6 June 2021', 'Time': '04:26', 'Version Booster': 'F9 B5', 'Launch Site': 'CCSFS', 'Payload': 'SXM-8', 'Payload mass': '7,000 kg', 'Orbit': 'GTO', 'Customer': 'Sirius XM', 'Launch outcome': 'Success\\n', 'Booster landing': 'Success'}]\n"
     ]
    }
   ],
   "source": [
    "# Initialize an empty list to store launch information\n",
    "launch_dict = []\n",
    "\n",
    "# Extract each table\n",
    "for table_number, table in enumerate(soup1.find_all('table', \"wikitable plainrowheaders collapsible\")):\n",
    "    # Iterate through rows in the current table\n",
    "    for rows in table.find_all('tr'):\n",
    "        # Check if the first table heading is a number corresponding to a launch number\n",
    "        if rows.th and rows.th.string and rows.th.string.strip().isdigit():\n",
    "            # Extract flight number\n",
    "            flight_number = rows.th.string.strip()\n",
    "            flag = flight_number.isdigit()\n",
    "        else:\n",
    "            flag = False\n",
    "\n",
    "        # Get table elements\n",
    "        row = rows.find_all('td')\n",
    "\n",
    "        # If it is a number, save cells in a dictionary\n",
    "        if flag:\n",
    "            extracted_row += 1\n",
    "\n",
    "            # Extract other information\n",
    "            datatimelist = date_time(row[0])\n",
    "            date = datatimelist[0].strip(',')\n",
    "            time = datatimelist[1]\n",
    "            bv = booster_version(row[1]) if booster_version(row[1]) else row[1].a.string\n",
    "            launch_site = row[2].a.string\n",
    "            payload = row[3].a.string\n",
    "            payload_mass = get_mass(row[4])\n",
    "            orbit = row[5].a.string\n",
    "            customer = row[6].a.string if row[6].a else None\n",
    "            launch_outcome = list(row[7].strings)[0]\n",
    "            booster_landing = landing_status(row[8])\n",
    "\n",
    "            # Append values to the launch_dict\n",
    "            launch_dict.append({\n",
    "                'Flight No.': flight_number,\n",
    "                'Date': date,\n",
    "                'Time': time,\n",
    "                'Version Booster': bv,\n",
    "                'Launch Site': launch_site,\n",
    "                'Payload': payload,\n",
    "                'Payload mass': payload_mass,\n",
    "                'Orbit': orbit,\n",
    "                'Customer': customer,\n",
    "                'Launch outcome': launch_outcome,\n",
    "                'Booster landing': booster_landing\n",
    "            })\n",
    "\n",
    "# Print the populated launch_dict\n",
    "print(launch_dict)\n"
   ]
  },
  {
   "cell_type": "code",
   "execution_count": null,
   "metadata": {
    "tags": []
   },
   "outputs": [],
   "source": []
  },
  {
   "cell_type": "markdown",
   "metadata": {},
   "source": [
    "After you have fill in the parsed launch record values into `launch_dict`, you can create a dataframe from it.\n"
   ]
  },
  {
   "cell_type": "code",
   "execution_count": 74,
   "metadata": {
    "tags": []
   },
   "outputs": [
    {
     "ename": "AttributeError",
     "evalue": "'list' object has no attribute 'items'",
     "output_type": "error",
     "traceback": [
      "\u001b[0;31m---------------------------------------------------------------------------\u001b[0m",
      "\u001b[0;31mAttributeError\u001b[0m                            Traceback (most recent call last)",
      "\u001b[0;32m/tmp/ipykernel_68/3101013841.py\u001b[0m in \u001b[0;36m<module>\u001b[0;34m\u001b[0m\n\u001b[0;32m----> 1\u001b[0;31m \u001b[0mdf\u001b[0m\u001b[0;34m=\u001b[0m \u001b[0mpd\u001b[0m\u001b[0;34m.\u001b[0m\u001b[0mDataFrame\u001b[0m\u001b[0;34m(\u001b[0m\u001b[0;34m{\u001b[0m \u001b[0mkey\u001b[0m\u001b[0;34m:\u001b[0m\u001b[0mpd\u001b[0m\u001b[0;34m.\u001b[0m\u001b[0mSeries\u001b[0m\u001b[0;34m(\u001b[0m\u001b[0mvalue\u001b[0m\u001b[0;34m)\u001b[0m \u001b[0;32mfor\u001b[0m \u001b[0mkey\u001b[0m\u001b[0;34m,\u001b[0m \u001b[0mvalue\u001b[0m \u001b[0;32min\u001b[0m \u001b[0mlaunch_dict\u001b[0m\u001b[0;34m.\u001b[0m\u001b[0mitems\u001b[0m\u001b[0;34m(\u001b[0m\u001b[0;34m)\u001b[0m \u001b[0;34m}\u001b[0m\u001b[0;34m)\u001b[0m\u001b[0;34m\u001b[0m\u001b[0;34m\u001b[0m\u001b[0m\n\u001b[0m\u001b[1;32m      2\u001b[0m \u001b[0mdf\u001b[0m\u001b[0;34m.\u001b[0m\u001b[0mhead\u001b[0m\u001b[0;34m(\u001b[0m\u001b[0;34m)\u001b[0m\u001b[0;34m\u001b[0m\u001b[0;34m\u001b[0m\u001b[0m\n",
      "\u001b[0;31mAttributeError\u001b[0m: 'list' object has no attribute 'items'"
     ]
    }
   ],
   "source": [
    "df= pd.DataFrame({ key:pd.Series(value) for key, value in launch_dict.items() })\n",
    "df.head()\n"
   ]
  },
  {
   "cell_type": "markdown",
   "metadata": {},
   "source": [
    "We can now export it to a <b>CSV</b> for the next section, but to make the answers consistent and in case you have difficulties finishing this lab. \n",
    "\n",
    "Following labs will be using a provided dataset to make each lab independent. \n"
   ]
  },
  {
   "cell_type": "markdown",
   "metadata": {},
   "source": [
    "<code>df.to_csv('spacex_web_scraped.csv', index=False)</code>\n"
   ]
  },
  {
   "cell_type": "markdown",
   "metadata": {},
   "source": [
    "## Authors\n"
   ]
  },
  {
   "cell_type": "markdown",
   "metadata": {},
   "source": [
    "<a href=\"https://www.linkedin.com/in/yan-luo-96288783/\">Yan Luo</a>\n"
   ]
  },
  {
   "cell_type": "markdown",
   "metadata": {},
   "source": [
    "<a href=\"https://www.linkedin.com/in/nayefaboutayoun/\">Nayef Abou Tayoun</a>\n"
   ]
  },
  {
   "cell_type": "markdown",
   "metadata": {},
   "source": [
    "## Change Log\n"
   ]
  },
  {
   "cell_type": "markdown",
   "metadata": {},
   "source": [
    "| Date (YYYY-MM-DD) | Version | Changed By | Change Description      |\n",
    "| ----------------- | ------- | ---------- | ----------------------- |\n",
    "| 2021-06-09        | 1.0     | Yan Luo    | Tasks updates           |\n",
    "| 2020-11-10        | 1.0     | Nayef      | Created the initial version |\n"
   ]
  },
  {
   "cell_type": "markdown",
   "metadata": {},
   "source": [
    "Copyright © 2021 IBM Corporation. All rights reserved.\n"
   ]
  }
 ],
 "metadata": {
  "kernelspec": {
   "display_name": "Python",
   "language": "python",
   "name": "conda-env-python-py"
  },
  "language_info": {
   "codemirror_mode": {
    "name": "ipython",
    "version": 3
   },
   "file_extension": ".py",
   "mimetype": "text/x-python",
   "name": "python",
   "nbconvert_exporter": "python",
   "pygments_lexer": "ipython3",
   "version": "3.7.12"
  }
 },
 "nbformat": 4,
 "nbformat_minor": 4
}
